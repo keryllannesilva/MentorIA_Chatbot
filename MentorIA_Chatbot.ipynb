{
  "nbformat": 4,
  "nbformat_minor": 0,
  "metadata": {
    "colab": {
      "provenance": [],
      "authorship_tag": "ABX9TyPPHS+k6CZDkBrUGDfheUpz",
      "include_colab_link": true
    },
    "kernelspec": {
      "name": "python3",
      "display_name": "Python 3"
    },
    "language_info": {
      "name": "python"
    }
  },
  "cells": [
    {
      "cell_type": "markdown",
      "metadata": {
        "id": "view-in-github",
        "colab_type": "text"
      },
      "source": [
        "<a href=\"https://colab.research.google.com/github/keryllannesilva/MentorIA_Chatbot/blob/main/MentorIA_Chatbot.ipynb\" target=\"_parent\"><img src=\"https://colab.research.google.com/assets/colab-badge.svg\" alt=\"Open In Colab\"/></a>"
      ]
    },
    {
      "cell_type": "markdown",
      "source": [
        "## **MentorIA**\n",
        "\n",
        "A história por trás do Projeto:"
      ],
      "metadata": {
        "id": "P5dixjQ6J2KJ"
      }
    },
    {
      "cell_type": "markdown",
      "source": [
        "\n",
        "Havia uma cidade tranquila onde os jovens sonhadores ansiavam por um futuro brilhante. Entre eles, estava Sofia, uma garota determinada com grandes aspirações, mas enfrentando um dilema comum: a falta de orientação.\n",
        "\n",
        "Sofia cresceu em uma família humilde, onde o acesso à educação formal era um luxo distante. No entanto, sua sede de conhecimento era insaciável, então ela recorreu à internet em busca de oportunidades de aprendizado. No vasto oceano de informações online, Sofia se sentia perdida, sem um caminho claro para seguir.\n",
        "\n",
        "Cada clique a levava por um labirinto de cursos, tutoriais e artigos, deixando-a confusa e desmotivada. A incerteza se tornou seu maior obstáculo, e ela começou a duvidar de sua capacidade de alcançar seus objetivos.\n",
        "\n",
        "Foi então que Sofia ouviu falar de uma nova esperança na cidade: o MentorIA, um chatbot educacional revolucionário. Este amigo virtual prometia guiar os estudantes autodidatas como ela através do emaranhado de opções educacionais, fornecendo um farol de orientação em meio à escuridão da indecisão.\n",
        "\n",
        "Desesperada por direção, Sofia decidiu dar uma chance ao MentorIA. Ela iniciou uma conversa com o chatbot, compartilhando seus sonhos e preocupações. Com uma inteligência artificial afiada, o MentorIA analisou suas aspirações e habilidades, elaborando um plano personalizado para o seu sucesso.\n",
        "\n",
        "A jornada de Sofia com o MentorIA foi transformadora. O chatbot a orientou na seleção de cursos relevantes, projetos práticos e oportunidades de networking. Com cada interação, Sofia se sentia mais confiante e motivada, alimentando seu desejo de aprendizado e crescimento.\n",
        "\n",
        "O ponto culminante de sua jornada chegou quando Sofia finalmente encontrou sua paixão - a programação de inteligência artificial. Com a orientação do MentorIA, ela mergulhou de cabeça neste campo fascinante, desenvolvendo habilidades e construindo uma sólida base de conhecimento.\n",
        "\n",
        "E então, um dia, Sofia recebeu uma oferta de emprego para trabalhar em uma renomada empresa de tecnologia, tudo graças ao MentorIA que a ajudou a trilhar o caminho certo.\n",
        "\n",
        "A história de Sofia é um testemunho do poder da orientação e da determinação. Graças ao MentorIA, ela não apenas encontrou seu propósito, mas também alcançou o sucesso que tanto desejava. E assim, em uma cidade onde os sonhos pareciam distantes, Sofia provou que, com a orientação certa, qualquer desafio pode ser superado."
      ],
      "metadata": {
        "id": "_YLX7APWLdWw"
      }
    },
    {
      "cell_type": "code",
      "source": [
        "!pip install google-generativeai"
      ],
      "metadata": {
        "id": "rdBC-Xzqj9kj"
      },
      "execution_count": null,
      "outputs": []
    },
    {
      "cell_type": "code",
      "execution_count": 44,
      "metadata": {
        "collapsed": true,
        "id": "95cVNMgKjib5"
      },
      "outputs": [],
      "source": [
        "import google.generativeai as genai\n",
        "from google.colab import userdata\n",
        "\n",
        "api_key = userdata.get ('SECRET-KEY')\n",
        "genai.configure(api_key=api_key)\n",
        "\n",
        "# Set up the model\n",
        "generation_config = {\n",
        "  \"temperature\": 1,\n",
        "  \"top_p\": 0.95,\n",
        "  \"top_k\": 0,\n",
        "  \"max_output_tokens\": 8192,\n",
        "}\n",
        "\n",
        "safety_settings = [\n",
        "  {\n",
        "    \"category\": \"HARM_CATEGORY_HARASSMENT\",\n",
        "    \"threshold\": \"BLOCK_MEDIUM_AND_ABOVE\"\n",
        "  },\n",
        "  {\n",
        "    \"category\": \"HARM_CATEGORY_HATE_SPEECH\",\n",
        "    \"threshold\": \"BLOCK_MEDIUM_AND_ABOVE\"\n",
        "  },\n",
        "  {\n",
        "    \"category\": \"HARM_CATEGORY_SEXUALLY_EXPLICIT\",\n",
        "    \"threshold\": \"BLOCK_MEDIUM_AND_ABOVE\"\n",
        "  },\n",
        "  {\n",
        "    \"category\": \"HARM_CATEGORY_DANGEROUS_CONTENT\",\n",
        "    \"threshold\": \"BLOCK_MEDIUM_AND_ABOVE\"\n",
        "  },\n",
        "]\n",
        "\n",
        "model = genai.GenerativeModel(model_name=\"gemini-1.5-pro-latest\",\n",
        "                              generation_config=generation_config,\n",
        "                              safety_settings=safety_settings)\n",
        "\n",
        "convo = model.start_chat(history=[])"
      ]
    },
    {
      "cell_type": "code",
      "source": [
        "convo.history"
      ],
      "metadata": {
        "id": "TZbkXckPC_TP"
      },
      "execution_count": null,
      "outputs": []
    },
    {
      "cell_type": "code",
      "source": [
        "def entrada():\n",
        "  print ('Olá! É um prazer te conhecer. Sou o MentorIA, e a partir de agora, irei te guiar em sua jornada profissional.')\n",
        "  print ('Sei que como estudante, você busca direcionamento para sua carreira e estou aqui para te ajudar nesse processo. Para começar, gostaria de te apresentar algumas opções:')\n",
        "  print ('1. **Trilha de conhecimento:**')\n",
        "  print ('Se você já tem uma área de interesse definida, posso te indicar um caminho de aprendizado com cursos, livros, workshops e outros recursos relevantes para te auxiliar a se aprofundar e se destacar na área.')\n",
        "  print ('2. **Gerenciamento de tempo:**')\n",
        "  print ('Organizar seu tempo de forma eficiente é fundamental para o sucesso.Posso te apresentar métodos e ferramentas para organizar seus estudos, projetos e atividades, otimizando sua produtividade.')\n",
        "  print ('3. **Definir metas e objetivos:**')\n",
        "  print ('Ter clareza sobre suas metas e objetivos é o primeiro passo para alcançá-los. Posso te auxiliar a definir metas SMART (Específicas, Mensuráveis, Alcançáveis, Relevantes e Temporais) para te manter motivada e focada.')\n",
        "\n",
        "  t1 = input ('Qual dessas opções mais te interessa neste momento?')\n",
        "\n",
        "  if t1 == '1':\n",
        "    t1a= input ('Qual a sua área de interesse?')\n",
        "    response = model.generate_content(\"Me indique um caminho de aprendizado com cursos, livros, workshops e outros recursos relevantes para me auxiliar a me aprofundar e me destacar na área: \" + t1a )\n",
        "    print (response.text)\n",
        "\n",
        "  elif t1 == '2':\n",
        "    t1b= input('Quanto tempo você tem disponível para estudar?')\n",
        "    response = model.generate_content(\"Sugira para mim métodos e ferramentas para organizar meus estudos de modo que eu possa otimizar minha produtividade gerenciando meu tempo. Considere que tenho este tempo disponível para isto: \" + t1b )\n",
        "    print (response.text)\n",
        "\n",
        "  elif  t1 == '3':\n",
        "    t1c = input('O que você quer alcançar?')\n",
        "    response = model.generate_content(\"Me auxilie a definir metas SMART (Específicas, Mensuráveis, Alcançáveis, Relevantes e Temporais) para me manter motivado(a) e focado(a) e alcançar este objetivo: \" + t1c )\n",
        "    print (response.text)\n",
        "\n",
        "  else:\n",
        "    print('Digite um valor válido!')\n",
        "    t1\n",
        "\n",
        "entrada()\n",
        "\n",
        "def saida():\n",
        "  s1= input ('Posso te ajudar com algo mais?')\n",
        "\n",
        "  if s1 == 'sim':\n",
        "    entrada()\n",
        "  else:\n",
        "    print ('Continue alimentando sua curiosidade e buscando conhecimento, pois o aprendizado é uma jornada sem fim. Até logo!')\n",
        "\n",
        "saida()\n",
        "\n"
      ],
      "metadata": {
        "collapsed": true,
        "id": "_6eaMMwdkGpl"
      },
      "execution_count": null,
      "outputs": []
    }
  ]
}